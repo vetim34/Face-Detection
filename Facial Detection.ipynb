{
 "cells": [
  {
   "cell_type": "code",
   "execution_count": 1,
   "id": "91aaef50",
   "metadata": {},
   "outputs": [],
   "source": [
    "#Import all libraries\n",
    "import numpy as np\n",
    "import cv2 "
   ]
  },
  {
   "cell_type": "code",
   "execution_count": 2,
   "id": "34d747e5",
   "metadata": {},
   "outputs": [],
   "source": [
    "#Step 1: Identified my webcam\n",
    "\n",
    "webcam = cv2.VideoCapture(0) \n",
    "#video capture detects what cam I'm using\n",
    "#local webcam=0; external webcam = 1"
   ]
  },
  {
   "cell_type": "code",
   "execution_count": 3,
   "id": "bdbdf533",
   "metadata": {},
   "outputs": [],
   "source": [
    "#Step 3: Leverage HAARCASCADEs\n",
    "face_cascade = cv2.CascadeClassifier(cv2.data.haarcascades + \"haarcascade_frontalface_default.xml\") #face detection\n",
    "eye_cascade = cv2.CascadeClassifier(cv2.data.haarcascades + \"haarcascade_eye.xml\") #eye detection\n",
    "smile_cascade = cv2.CascadeClassifier(cv2.data.haarcascades + \"haarcascade_smile.xml\") #smile detector"
   ]
  },
  {
   "cell_type": "code",
   "execution_count": 4,
   "id": "7f573251",
   "metadata": {},
   "outputs": [],
   "source": [
    "# Step 4: Creating a function to leverage cascade for face detection\n",
    "\n",
    "def detect(gray, frame):#gray is grayscale & frame = color\n",
    "    face = face_cascade.detectMultiScale(gray, 1.3,5) #the numbers are called tuning numbers\n",
    "    for (x,y,h,w) in face:\n",
    "        cv2.rectangle(frame, pt1=(x,y), pt2=(x+w, y+h), color=(255,0,0), thickness=3)\n",
    "        roi_gray = gray[y:y+h, x:x+w]\n",
    "        roi_color = frame[y:y+h, x:x+w]\n",
    "        \n",
    "        #Eye detection\n",
    "        eyes = eye_cascade.detectMultiScale(roi_gray, 1.1,3) #the numbers are called tuning numbers\n",
    "        for (ex,ey,eh,ew) in eyes:\n",
    "            cv2.rectangle(roi_color, pt1=(ex,ey), pt2=(ex+ew, ey+eh), color=(0,0,255), thickness=3) #color is BGR here\n",
    "    \n",
    "        #Smile detection\n",
    "        smile = smile_cascade.detectMultiScale(roi_gray, 1.5,10) #the numbers are called tuning numbers\n",
    "        for (sx,sy,sh,sw) in smile:\n",
    "            cv2.rectangle(roi_color, pt1=(sx,sy), pt2=(sx+sw, sy+sh), color=(0,255,0), thickness=3)\n",
    "    \n",
    "    return frame\n",
    "        \n",
    "        \n",
    "# we drew a rectangle in order to detect the face."
   ]
  },
  {
   "cell_type": "code",
   "execution_count": 5,
   "id": "ce042993",
   "metadata": {},
   "outputs": [],
   "source": [
    "#Step 2: switch on webcam\n",
    "#using the while loop: meaning to continue running to I'm done (continual looping)\n",
    "# the false value will end it, and thats the close button\n",
    "\n",
    "while True:\n",
    "    _, frame = webcam.read() #the frame is what I'm taking into consideration\n",
    "    \n",
    "    # Convert colored frame to black n white\n",
    "    gray = cv2.cvtColor(frame, cv2.COLOR_BGR2GRAY)\n",
    "    \n",
    "    video = detect(gray, frame)\n",
    "    \n",
    "    cv2.imshow(\"10Alytics Facial Detection\", video)\n",
    "    if cv2.waitKey(1) & 0xff == ord('q'):\n",
    "        break\n",
    "webcam.release()\n",
    "cv2.destroyAllWindows()"
   ]
  },
  {
   "cell_type": "code",
   "execution_count": null,
   "id": "c81af71b",
   "metadata": {},
   "outputs": [],
   "source": []
  },
  {
   "cell_type": "code",
   "execution_count": null,
   "id": "af91a3d1",
   "metadata": {},
   "outputs": [],
   "source": []
  },
  {
   "cell_type": "code",
   "execution_count": null,
   "id": "717bc508",
   "metadata": {},
   "outputs": [],
   "source": []
  },
  {
   "cell_type": "code",
   "execution_count": null,
   "id": "19567db3",
   "metadata": {},
   "outputs": [],
   "source": []
  },
  {
   "cell_type": "code",
   "execution_count": null,
   "id": "06f098de",
   "metadata": {},
   "outputs": [],
   "source": []
  },
  {
   "cell_type": "code",
   "execution_count": null,
   "id": "988f2d43",
   "metadata": {},
   "outputs": [],
   "source": []
  },
  {
   "cell_type": "code",
   "execution_count": null,
   "id": "205a15c2",
   "metadata": {},
   "outputs": [],
   "source": []
  },
  {
   "cell_type": "code",
   "execution_count": null,
   "id": "d237330b",
   "metadata": {},
   "outputs": [],
   "source": []
  },
  {
   "cell_type": "code",
   "execution_count": null,
   "id": "eed88e2f",
   "metadata": {},
   "outputs": [],
   "source": []
  },
  {
   "cell_type": "code",
   "execution_count": null,
   "id": "2c5b0739",
   "metadata": {},
   "outputs": [],
   "source": []
  },
  {
   "cell_type": "code",
   "execution_count": null,
   "id": "5c06e73f",
   "metadata": {},
   "outputs": [],
   "source": []
  },
  {
   "cell_type": "code",
   "execution_count": null,
   "id": "de2dae9b",
   "metadata": {},
   "outputs": [],
   "source": []
  },
  {
   "cell_type": "code",
   "execution_count": null,
   "id": "dd2d15a0",
   "metadata": {},
   "outputs": [],
   "source": []
  },
  {
   "cell_type": "code",
   "execution_count": null,
   "id": "2f40ab6d",
   "metadata": {},
   "outputs": [],
   "source": []
  },
  {
   "cell_type": "code",
   "execution_count": null,
   "id": "11777042",
   "metadata": {},
   "outputs": [],
   "source": []
  },
  {
   "cell_type": "code",
   "execution_count": null,
   "id": "22a9833a",
   "metadata": {},
   "outputs": [],
   "source": []
  },
  {
   "cell_type": "code",
   "execution_count": null,
   "id": "dad4bfed",
   "metadata": {},
   "outputs": [],
   "source": []
  }
 ],
 "metadata": {
  "kernelspec": {
   "display_name": "Python 3 (ipykernel)",
   "language": "python",
   "name": "python3"
  },
  "language_info": {
   "codemirror_mode": {
    "name": "ipython",
    "version": 3
   },
   "file_extension": ".py",
   "mimetype": "text/x-python",
   "name": "python",
   "nbconvert_exporter": "python",
   "pygments_lexer": "ipython3",
   "version": "3.9.12"
  }
 },
 "nbformat": 4,
 "nbformat_minor": 5
}
